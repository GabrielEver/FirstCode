{
  "nbformat": 4,
  "nbformat_minor": 0,
  "metadata": {
    "colab": {
      "provenance": [],
      "collapsed_sections": [
        "Il7dZx2ixwJi",
        "-mAgZyS86YL2",
        "qo9HU-Vu7kjt",
        "VHOfq9X19qc-",
        "uip6MFLj-KnW",
        "db7_kNdlAVGo",
        "KquIuAeHBxCs",
        "Ep5RukORC_5U"
      ],
      "authorship_tag": "ABX9TyMPq6EW+SPTURvWJM5tNps7",
      "include_colab_link": true
    },
    "kernelspec": {
      "name": "python3",
      "display_name": "Python 3"
    },
    "language_info": {
      "name": "python"
    }
  },
  "cells": [
    {
      "cell_type": "markdown",
      "metadata": {
        "id": "view-in-github",
        "colab_type": "text"
      },
      "source": [
        "<a href=\"https://colab.research.google.com/github/gabrielluizone/FirstCode/blob/main/Lista%2001%20%7C%20Integrador%20Three.ipynb\" target=\"_parent\"><img src=\"https://colab.research.google.com/assets/colab-badge.svg\" alt=\"Open In Colab\"/></a>"
      ]
    },
    {
      "cell_type": "markdown",
      "source": [
        "<div class=\"markdown-google-sans\">\n",
        "\n",
        "<h1>Projeto Integrador $\\mathbb{III}$</h1>\n",
        "\n",
        "> **CST em Ciência de Dados**\n",
        "- Gabriel Luiz dos Santos Silva\n",
        "\n",
        "$\\large \\color{#6c8c77}{\\textbf{Prof. Jobel Corrêa. MBA MSc.}}$\n",
        "\n",
        "\n",
        "</div>"
      ],
      "metadata": {
        "id": "3faof2RRwlRU"
      }
    },
    {
      "cell_type": "code",
      "source": [
        "from IPython.display import Markdown as md"
      ],
      "metadata": {
        "id": "96DYreDV0LTp"
      },
      "execution_count": 1,
      "outputs": []
    },
    {
      "cell_type": "markdown",
      "source": [
        "<div class=\"markdown-google-sans\">\n",
        "\n",
        "### <strong>$\\color{#6c8c77}{\\textbf{1.}}$ Dado o tamanho da base e da altura de um retângulo, calcular a sua área e o seu perímetro.</strong>\n",
        "\n",
        "</div>\n",
        "\n"
      ],
      "metadata": {
        "id": "Il7dZx2ixwJi"
      }
    },
    {
      "cell_type": "code",
      "source": [
        "print('Base e Altura do Retângulo (Use somente \",\" como delimitador)')\n",
        "\n",
        "b, h = [ float(x) for x in input('[ b × h ] >> ').split(',') ]\n",
        "\n",
        "area = (b * h)\n",
        "per = b*2 + h*2\n",
        "\n",
        "display(md(f'## Área: ${area}$ | Perímetro: ${per}$'))"
      ],
      "metadata": {
        "colab": {
          "base_uri": "https://localhost:8080/",
          "height": 104
        },
        "id": "IND-JaBT5Mk0",
        "outputId": "13909dd4-efb7-4fa5-b9e2-825f153ccf4b"
      },
      "execution_count": 43,
      "outputs": [
        {
          "name": "stdout",
          "output_type": "stream",
          "text": [
            "Base e Altura do Retângulo (Use somente \",\" como delimitador)\n",
            "[ b × h ] >> 50, 23\n"
          ]
        },
        {
          "output_type": "display_data",
          "data": {
            "text/plain": [
              "<IPython.core.display.Markdown object>"
            ],
            "text/markdown": "## Área: $1150.0$ | Perímetro: $146.0$"
          },
          "metadata": {}
        }
      ]
    },
    {
      "cell_type": "markdown",
      "source": [
        "<div class=\"markdown-google-sans\">\n",
        "\n",
        "### <strong>$\\color{#6c8c77}{\\textbf{2.}}$ Dado o tamanho do lado de um quadrado, calcular a sua área e o seu perímetro</strong>\n",
        "\n",
        "</div>\n"
      ],
      "metadata": {
        "id": "-mAgZyS86YL2"
      }
    },
    {
      "cell_type": "code",
      "source": [
        "print('Insira o tamanho de um Lado do seu Quadrado')\n",
        "\n",
        "l = float(input('[ Tamanho ] >> '))\n",
        "\n",
        "area = (l**2)\n",
        "per = l*4\n",
        "\n",
        "display(md(f'## Área: ${area}$ | Perímetro: ${per}$'))"
      ],
      "metadata": {
        "colab": {
          "base_uri": "https://localhost:8080/",
          "height": 104
        },
        "id": "L58bmIwlzGNo",
        "outputId": "0ec787b2-c148-4533-a04c-b7061aa255c1"
      },
      "execution_count": 45,
      "outputs": [
        {
          "name": "stdout",
          "output_type": "stream",
          "text": [
            "Insira o tamanho de um Lado do seu Quadrado\n",
            "[ Tamanho ] >> 56\n"
          ]
        },
        {
          "output_type": "display_data",
          "data": {
            "text/plain": [
              "<IPython.core.display.Markdown object>"
            ],
            "text/markdown": "## Área: $3136.0$ | Perímetro: $224.0$"
          },
          "metadata": {}
        }
      ]
    },
    {
      "cell_type": "markdown",
      "source": [
        "<div class=\"markdown-google-sans\">\n",
        "\n",
        "### <strong>$\\color{#6c8c77}{\\textbf{3.}}$ Dado os três lados de um triângulo determinar o perímetro do mesmo.</strong>\n",
        "\n",
        "</div>"
      ],
      "metadata": {
        "id": "qo9HU-Vu7kjt"
      }
    },
    {
      "cell_type": "code",
      "source": [
        "print('Insira os 3 lados do seu Triangulo (Use somente \",\" como delimitador)')\n",
        "\n",
        "l1, l2, l3 = [ float(x) for x in input('[ 3 Lados ] >> ').split(',') ]\n",
        "\n",
        "display(md(f'## Perímetro: ${l1 + l2 + l3}$'))"
      ],
      "metadata": {
        "colab": {
          "base_uri": "https://localhost:8080/",
          "height": 104
        },
        "id": "UIdIU5iV82GG",
        "outputId": "cbdce476-6c3b-4ae0-9a99-0eab098e1041"
      },
      "execution_count": 46,
      "outputs": [
        {
          "name": "stdout",
          "output_type": "stream",
          "text": [
            "Insira os 3 lados do seu Triangulo (Use somente \",\" como delimitador)\n",
            "[ 3 Lados ] >> 9, 6, 3\n"
          ]
        },
        {
          "output_type": "display_data",
          "data": {
            "text/plain": [
              "<IPython.core.display.Markdown object>"
            ],
            "text/markdown": "## Perímetro: $18.0$"
          },
          "metadata": {}
        }
      ]
    },
    {
      "cell_type": "markdown",
      "source": [
        "<div class=\"markdown-google-sans\">\n",
        "\n",
        "### <strong>$\\color{#6c8c77}{\\textbf{4.}}$ Ler um número inteiro e exibir o seu sucessor.</strong>\n",
        "\n",
        "</div>"
      ],
      "metadata": {
        "id": "VHOfq9X19qc-"
      }
    },
    {
      "cell_type": "code",
      "source": [
        "num = int(input('Escolha um Número Inteiro Aleatório\\n>> '))\n",
        "display(md(f'## Seu Sucessor será ${num + 1}$'))"
      ],
      "metadata": {
        "colab": {
          "base_uri": "https://localhost:8080/",
          "height": 104
        },
        "id": "XN-xd1_z9h7h",
        "outputId": "e312764c-328b-42c0-9d7d-13f2fa689376"
      },
      "execution_count": 47,
      "outputs": [
        {
          "name": "stdout",
          "output_type": "stream",
          "text": [
            "Escolha um Número Inteiro Aleatório\n",
            ">> 999999999999999999999999999999999999999999999999999999\n"
          ]
        },
        {
          "output_type": "display_data",
          "data": {
            "text/plain": [
              "<IPython.core.display.Markdown object>"
            ],
            "text/markdown": "## Seu Sucessor será $1000000000000000000000000000000000000000000000000000000$"
          },
          "metadata": {}
        }
      ]
    },
    {
      "cell_type": "markdown",
      "source": [
        "<div class=\"markdown-google-sans\">\n",
        "\n",
        "### <strong>$\\color{#6c8c77}{\\textbf{5.}}$ Ler dois números inteiros e exibir o quociente e o resto da divisão inteira entre eles</strong>\n",
        "\n",
        "</div>"
      ],
      "metadata": {
        "id": "uip6MFLj-KnW"
      }
    },
    {
      "cell_type": "code",
      "source": [
        "n1, n2 = [int(n) for n in input('Escolha 2 Números Inteiro Aleatório\\n>> ').split(',')]\n",
        "\n",
        "display(md(f'## Quociente: ${n1 // n2}$'))\n",
        "display(md(f'## Resto da Divisão: ${n1 % n2}$'))"
      ],
      "metadata": {
        "colab": {
          "base_uri": "https://localhost:8080/",
          "height": 152
        },
        "id": "Hj32M4_h-Wp5",
        "outputId": "90b2fbd9-246c-44ec-9c0c-68c7f5aeebfa"
      },
      "execution_count": 48,
      "outputs": [
        {
          "name": "stdout",
          "output_type": "stream",
          "text": [
            "Escolha 2 Números Inteiro Aleatório\n",
            ">> 827, 3\n"
          ]
        },
        {
          "output_type": "display_data",
          "data": {
            "text/plain": [
              "<IPython.core.display.Markdown object>"
            ],
            "text/markdown": "## Quociente: $275$"
          },
          "metadata": {}
        },
        {
          "output_type": "display_data",
          "data": {
            "text/plain": [
              "<IPython.core.display.Markdown object>"
            ],
            "text/markdown": "## Resto da Divisão: $2$"
          },
          "metadata": {}
        }
      ]
    },
    {
      "cell_type": "markdown",
      "source": [
        "<div class=\"markdown-google-sans\">\n",
        "\n",
        "### <strong>$\\color{#6c8c77}{\\textbf{6.}}$ Dado que a fórmula para conversão de Fahrenheit para Celsius é $C = \\frac{5}{9} \\cdot (F – 32)$, entrar com um valor detemperatura em Fahrenheit e exibi-lo em Celsius.</strong>\n",
        "\n",
        "</div>"
      ],
      "metadata": {
        "id": "db7_kNdlAVGo"
      }
    },
    {
      "cell_type": "code",
      "source": [
        "f = float(input('Qual a Temperatura em F° (Fahrenheit) que deseja Converter para C° (Celsius)?\\n>> '))\n",
        "\n",
        "c = round((5/9)*(f - 32), 2)\n",
        "\n",
        "display(md(f'## Temperatura em Celsius: ${c} C°$'))"
      ],
      "metadata": {
        "colab": {
          "base_uri": "https://localhost:8080/",
          "height": 106
        },
        "id": "cbmNdDSg_DBf",
        "outputId": "fba91d72-1bff-439a-b205-a46b5bf6724b"
      },
      "execution_count": 49,
      "outputs": [
        {
          "name": "stdout",
          "output_type": "stream",
          "text": [
            "Qual a Temperatura em F° (Fahrenheit) que deseja Converter para C° (Celsius)?\n",
            ">> 87\n"
          ]
        },
        {
          "output_type": "display_data",
          "data": {
            "text/plain": [
              "<IPython.core.display.Markdown object>"
            ],
            "text/markdown": "## Temperatura em Celsius: $30.56 C°$"
          },
          "metadata": {}
        }
      ]
    },
    {
      "cell_type": "markdown",
      "source": [
        "<div class=\"markdown-google-sans\">\n",
        "\n",
        "### <strong>$\\color{#6c8c77}{\\textbf{7.}}$ Faça um algoritmo para calcular a nota final (nf) de um aluno, obtida pela média aritmética de 2 provas ($p_1$ e $p_2$).</strong>\n",
        "\n",
        "</div>"
      ],
      "metadata": {
        "id": "KquIuAeHBxCs"
      }
    },
    {
      "cell_type": "code",
      "source": [
        "print('Notas das duas Avaliações')\n",
        "p1 = float(input('[ p1 ] >> '))\n",
        "p2 = float(input('[ p2 ] >> '))\n",
        "\n",
        "display(md(f'## Média Final (nf): ${(p1 + p2)/2}$'))"
      ],
      "metadata": {
        "colab": {
          "base_uri": "https://localhost:8080/",
          "height": 121
        },
        "id": "osgRWeseB0U0",
        "outputId": "572a6175-42b6-4717-de1b-7d1ead541e4f"
      },
      "execution_count": 50,
      "outputs": [
        {
          "name": "stdout",
          "output_type": "stream",
          "text": [
            "Notas das duas Avaliações\n",
            "[ p1 ] >> 8.5\n",
            "[ p2 ] >> 4.2\n"
          ]
        },
        {
          "output_type": "display_data",
          "data": {
            "text/plain": [
              "<IPython.core.display.Markdown object>"
            ],
            "text/markdown": "## Média Final (nf): $6.35$"
          },
          "metadata": {}
        }
      ]
    },
    {
      "cell_type": "markdown",
      "source": [
        "<div class=\"markdown-google-sans\">\n",
        "\n",
        "### <strong>$\\color{#6c8c77}{\\textbf{8.}}$ Faça um algoritmo que transforme uma velocidade em m/s para km/h. Para tal, multiplique o valor em m/s por $3,6$</strong>\n",
        "\n",
        "</div>"
      ],
      "metadata": {
        "id": "Ep5RukORC_5U"
      }
    },
    {
      "cell_type": "code",
      "source": [
        "ms = float(input('Qual Velocidade em m/s (Metros por Segundo) você deseja converte para Km/h (Kilometros por Hora)?\\n[ m/s ] >> '))\n",
        "\n",
        "display(md(f'## Velocidade Convertida [Km/h]: ${ms * 3.6}$ Km/h'))"
      ],
      "metadata": {
        "colab": {
          "base_uri": "https://localhost:8080/",
          "height": 104
        },
        "id": "fUVRm3-IDG6P",
        "outputId": "0b9ce10d-d1fb-46fb-efd2-fd3c2a2220d9"
      },
      "execution_count": 51,
      "outputs": [
        {
          "name": "stdout",
          "output_type": "stream",
          "text": [
            "Qual Velocidade em m/s (Metros por Segundo) você deseja converte para Km/h (Kilometros por Hora)?\n",
            "[ m/s ] >> 2.5\n"
          ]
        },
        {
          "output_type": "display_data",
          "data": {
            "text/plain": [
              "<IPython.core.display.Markdown object>"
            ],
            "text/markdown": "## Velocidade Convertida [Km/h]: $9.0$ Km/h"
          },
          "metadata": {}
        }
      ]
    }
  ]
}